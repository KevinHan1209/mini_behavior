{
 "cells": [
  {
   "cell_type": "code",
   "execution_count": 1,
   "metadata": {},
   "outputs": [],
   "source": [
    "import gym\n",
    "from gym_minigrid.wrappers import ImgObsWrapper\n",
    "from mini_behavior.utils.wrappers import MiniBHFullyObsWrapper\n",
    "from mini_behavior.register import register\n",
    "from algorithms.APT_PPO import APT_PPO\n",
    "import mini_behavior\n",
    "from stable_baselines3 import PPO\n",
    "import numpy as np\n",
    "from stable_baselines3.common.env_util import make_vec_env\n",
    "from stable_baselines3.common.torch_layers import BaseFeaturesExtractor\n",
    "from stable_baselines3.common.callbacks import StopTrainingOnMaxEpisodes\n",
    "from stable_baselines3.common.vec_env.subproc_vec_env import SubprocVecEnv\n",
    "from stable_baselines3.common.vec_env.dummy_vec_env import DummyVecEnv\n",
    "import torch.nn as nn\n",
    "import torch\n",
    "from env_wrapper import CustomObservationWrapper\n",
    "import argparse\n",
    "\n",
    "class MinigridFeaturesExtractor(BaseFeaturesExtractor):\n",
    "    def __init__(self, observation_space: gym.Space, features_dim: int = 512, normalized_image: bool = False) -> None:\n",
    "        super().__init__(observation_space, features_dim)\n",
    "        n_input_channels = observation_space.shape[0]\n",
    "        self.cnn = nn.Sequential(\n",
    "            nn.Conv2d(n_input_channels, 32, (2, 2)),\n",
    "            nn.ReLU(),\n",
    "            nn.Conv2d(32, 32, (2, 2)),\n",
    "            nn.ReLU(),\n",
    "            nn.Conv2d(32, 64, (2, 2)),\n",
    "            nn.ReLU(),\n",
    "            nn.Flatten(),\n",
    "        )\n",
    "\n",
    "        # Compute shape by doing one forward pass\n",
    "        with torch.no_grad():\n",
    "            n_flatten = self.cnn(torch.as_tensor(observation_space.sample()[None]).float()).shape[1]\n",
    "\n",
    "        self.linear = nn.Sequential(nn.Linear(n_flatten, features_dim), nn.ReLU())\n",
    "\n",
    "    def forward(self, observations: torch.Tensor) -> torch.Tensor:\n",
    "        return self.linear(self.cnn(observations))\n",
    "\n",
    "TASK = 'MultiToy'\n",
    "PARTIAL_OBS = True\n",
    "ROOM_SIZE = 10\n",
    "MAX_STEPS = 1000\n",
    "TOTAL_TIMESTEPS = 1e5\n",
    "DENSE_REWARD = False\n",
    "POLICY_TYPE = 'CnnPolicy'\n",
    "NUM_ENVS = 8\n",
    "NUM_STEPS = 125\n",
    "env_name = f\"MiniGrid-{TASK}-{ROOM_SIZE}x{ROOM_SIZE}-N2-v0\""
   ]
  },
  {
   "cell_type": "code",
   "execution_count": 2,
   "metadata": {},
   "outputs": [],
   "source": [
    "env_kwargs = {\"room_size\": ROOM_SIZE, \"max_steps\": MAX_STEPS, \"exploration_type\": \"ATP\"}\n",
    "def get_single_env() -> gym.Env:\n",
    "    '''\n",
    "    policy_kwargs = dict(\n",
    "    features_extractor_class=MinigridFeaturesExtractor,\n",
    "    features_extractor_kwargs=dict(features_dim=128)\n",
    ")\n",
    "    '''\n",
    "\n",
    "    # Env wrapping\n",
    "    env_name = f\"MiniGrid-{TASK}-{ROOM_SIZE}x{ROOM_SIZE}-N2-v0\"\n",
    "\n",
    "    kwargs = {\"room_size\": ROOM_SIZE, \"max_steps\": MAX_STEPS}\n",
    "\n",
    "\n",
    "    register(\n",
    "        id=env_name,\n",
    "        entry_point=f'mini_behavior.envs:{TASK}Env',\n",
    "        kwargs=kwargs\n",
    "    )\n",
    "\n",
    "    '''\n",
    "    config = {\n",
    "        \"policy_type\": POLICY_TYPE,\n",
    "        \"total_timesteps\": TOTAL_TIMESTEPS,\n",
    "        \"env_name\": env_name,\n",
    "    }\n",
    "    '''\n",
    "    \n",
    "    env = gym.make(env_name)\n",
    "    env = CustomObservationWrapper(env)\n",
    "\n",
    "    return env\n",
    "\n",
    "\n",
    "def init_env(num_envs: int):\n",
    "\n",
    "    env_fns = [lambda: get_single_env() for _ in range(num_envs)]\n",
    "    if num_envs == 1:\n",
    "        return DummyVecEnv(env_fns)\n",
    "    else:\n",
    "        return SubprocVecEnv(env_fns)\n",
    "    \n",
    "\n",
    "\n"
   ]
  },
  {
   "cell_type": "code",
   "execution_count": 3,
   "metadata": {},
   "outputs": [
    {
     "name": "stdout",
     "output_type": "stream",
     "text": [
      "\n",
      "=== Observation Space ===\n",
      "Shape: (59,)\n",
      "Type: float32\n"
     ]
    }
   ],
   "source": [
    "env = get_single_env()"
   ]
  },
  {
   "cell_type": "code",
   "execution_count": 27,
   "metadata": {},
   "outputs": [
    {
     "name": "stdout",
     "output_type": "stream",
     "text": [
      "[5. 6. 0. 3. 3. 0. 0. 0. 0. 1. 7. 0. 0. 0. 3. 2. 0. 0. 0. 4. 1. 0. 0. 0.\n",
      " 0. 0. 6. 4. 1. 0. 0. 0. 0. 2. 1. 0. 0. 0. 0. 0. 0. 8. 6. 1. 0. 0. 0. 3.\n",
      " 5. 0. 0. 0. 2. 6. 0. 0. 0. 0. 0.]\n",
      "{'alligator_busy_box_0': {'infovofrobot': False, 'inhandofrobot': False, 'inreachofrobot': False, 'toggled': False}, 'ball_0': {'infovofrobot': False, 'inhandofrobot': False, 'inreachofrobot': False}, 'beach_ball_0': {'infovofrobot': False, 'inhandofrobot': False, 'inreachofrobot': False}, 'music_toy_0': {'infovofrobot': False, 'inhandofrobot': False, 'inreachofrobot': False, 'noise': False, 'toggled': False}, 'farm_toy_0': {'infovofrobot': True, 'inhandofrobot': False, 'inreachofrobot': False, 'popup': False, 'toggled': False}, 'piggie_bank_0': {'infovofrobot': False, 'inhandofrobot': False, 'inreachofrobot': False, 'noise': False, 'open': False, 'toggled': False}, 'rattle_0': {'infovofrobot': True, 'inhandofrobot': False, 'inreachofrobot': False, 'noise': False}, 'red_spiky_ball_0': {'infovofrobot': False, 'inhandofrobot': False, 'inreachofrobot': False}, 'winnie_cabinet_0': {'infovofrobot': False, 'inhandofrobot': False, 'inreachofrobot': False, 'open': False, 'toggled': False}}\n"
     ]
    }
   ],
   "source": [
    "print(env.gen_obs())\n",
    "objs_dict = {}\n",
    "for obj_type in env.objs.values():\n",
    "    for obj in obj_type:\n",
    "        states_dict = {}\n",
    "        for state_value in obj.states:\n",
    "            if not isinstance(obj.states[state_value], RelativeObjectState):\n",
    "                state = obj.states[state_value].get_value(env)\n",
    "                states_dict[state_value] = state\n",
    "        objs_dict[obj.name] = states_dict\n",
    "print(objs_dict)\n",
    "                "
   ]
  },
  {
   "cell_type": "code",
   "execution_count": 25,
   "metadata": {},
   "outputs": [
    {
     "name": "stdout",
     "output_type": "stream",
     "text": [
      "{'alligator_busy_box': [<mini_behavior.utils.objects_base.WorldObj object at 0x1059ae8e0>], 'ball': [<mini_behavior.utils.objects_base.WorldObj object at 0x1059ae610>], 'beach_ball': [<mini_behavior.utils.objects_base.WorldObj object at 0x1059aefa0>], 'music_toy': [<mini_behavior.utils.objects_base.WorldObj object at 0x105937670>], 'farm_toy': [<mini_behavior.utils.objects_base.WorldObj object at 0x14f78fe20>], 'piggie_bank': [<mini_behavior.utils.objects_base.WorldObj object at 0x14f78ffd0>], 'rattle': [<mini_behavior.utils.objects_base.WorldObj object at 0x14f78fcd0>], 'red_spiky_ball': [<mini_behavior.utils.objects_base.WorldObj object at 0x14f7915e0>], 'winnie_cabinet': [<mini_behavior.utils.objects_base.WorldObj object at 0x14f791820>]}\n",
      "alligator_busy_box_0\n",
      "\n",
      "infovofrobot: False\n",
      "inhandofrobot: False\n",
      "inreachofrobot: False\n",
      "toggled: False\n",
      "ball_0\n",
      "\n",
      "infovofrobot: False\n",
      "inhandofrobot: False\n",
      "inreachofrobot: False\n",
      "beach_ball_0\n",
      "\n",
      "infovofrobot: False\n",
      "inhandofrobot: False\n",
      "inreachofrobot: False\n",
      "music_toy_0\n",
      "\n",
      "infovofrobot: False\n",
      "inhandofrobot: False\n",
      "inreachofrobot: False\n",
      "noise: False\n",
      "toggled: False\n",
      "farm_toy_0\n",
      "\n",
      "infovofrobot: True\n",
      "inhandofrobot: False\n",
      "inreachofrobot: False\n",
      "popup: False\n",
      "toggled: False\n",
      "piggie_bank_0\n",
      "\n",
      "infovofrobot: False\n",
      "inhandofrobot: False\n",
      "inreachofrobot: False\n",
      "noise: False\n",
      "open: False\n",
      "toggled: False\n",
      "rattle_0\n",
      "\n",
      "infovofrobot: True\n",
      "inhandofrobot: False\n",
      "inreachofrobot: False\n",
      "noise: False\n",
      "red_spiky_ball_0\n",
      "\n",
      "infovofrobot: False\n",
      "inhandofrobot: False\n",
      "inreachofrobot: False\n",
      "winnie_cabinet_0\n",
      "\n",
      "infovofrobot: False\n",
      "inhandofrobot: False\n",
      "inreachofrobot: False\n",
      "open: False\n",
      "toggled: False\n",
      "{'alligator_busy_box_0': {'infovofrobot': 0, 'inhandofrobot': 0, 'inreachofrobot': 0, 'toggled': 0}, 'ball_0': {'infovofrobot': 0, 'inhandofrobot': 0, 'inreachofrobot': 0}, 'beach_ball_0': {'infovofrobot': 0, 'inhandofrobot': 0, 'inreachofrobot': 0}, 'music_toy_0': {'infovofrobot': 0, 'inhandofrobot': 0, 'inreachofrobot': 0, 'noise': 0, 'toggled': 0}, 'farm_toy_0': {'infovofrobot': 0, 'inhandofrobot': 0, 'inreachofrobot': 0, 'popup': 0, 'toggled': 0}, 'piggie_bank_0': {'infovofrobot': 0, 'inhandofrobot': 0, 'inreachofrobot': 0, 'noise': 0, 'open': 0, 'toggled': 0}, 'rattle_0': {'infovofrobot': 0, 'inhandofrobot': 0, 'inreachofrobot': 0, 'noise': 0}, 'red_spiky_ball_0': {'infovofrobot': 0, 'inhandofrobot': 0, 'inreachofrobot': 0}, 'winnie_cabinet_0': {'infovofrobot': 0, 'inhandofrobot': 0, 'inreachofrobot': 0, 'open': 0, 'toggled': 0}}\n"
     ]
    }
   ],
   "source": [
    "from mini_behavior.utils.states_base import RelativeObjectState\n",
    "print(env.objs)\n",
    "for obj_type in env.objs.values():\n",
    "    for obj in obj_type:\n",
    "        print(obj.name, end = '\\n\\n')\n",
    "        for state_value in obj.states:\n",
    "            if not isinstance(obj.states[state_value], RelativeObjectState):\n",
    "                state = obj.states[state_value].get_value(env)\n",
    "                print(str(state_value) + \": \" + str(state))\n",
    "\n",
    "exploration_dict = {obj.name: {} for obj_type in env.objs.values() for obj in obj_type}\n",
    "for dict, obj in zip(exploration_dict.values(), list(obj for obj_type in env.objs.values() for obj in obj_type)):\n",
    "    for state_value in obj.states:\n",
    "        if not isinstance(obj.states[state_value], RelativeObjectState):\n",
    "            dict[state_value] = 0\n",
    "print(exploration_dict)\n"
   ]
  },
  {
   "cell_type": "code",
   "execution_count": null,
   "metadata": {},
   "outputs": [],
   "source": [
    "env = init_env(NUM_ENVS)\n",
    "    \n",
    "print('begin training')\n",
    "# Policy training\n",
    "model = APT_PPO(env, num_envs=NUM_ENVS, total_timesteps = TOTAL_TIMESTEPS, num_steps=NUM_STEPS, save_freq = 10)\n",
    "\n",
    "model.train()"
   ]
  },
  {
   "cell_type": "code",
   "execution_count": 4,
   "metadata": {},
   "outputs": [],
   "source": [
    "import os\n",
    "\n",
    "# Define the directory path\n",
    "save_dir = \"models/ATP_PPO_Trial\"\n",
    "\n",
    "# Check if the directory exists, and if not, create it\n",
    "if not os.path.exists(save_dir):\n",
    "    os.makedirs(save_dir)\n",
    "model.save(f\"{save_dir}/{env_name}\", env_kwargs= env_kwargs)"
   ]
  },
  {
   "cell_type": "code",
   "execution_count": 5,
   "metadata": {},
   "outputs": [],
   "source": [
    "checkpoint = torch.load(\"/Users/kevinhan/mini_behavior/models/ATP_PPO_Trial/MiniGrid-PlayAlligator-10x10-N2-v0\")"
   ]
  },
  {
   "cell_type": "code",
   "execution_count": 6,
   "metadata": {},
   "outputs": [
    {
     "name": "stdout",
     "output_type": "stream",
     "text": [
      "dict_keys(['env_kwargs', 'model_saves', 'final_model_state_dict', 'final_optimizer_state_dict', 'learning_rate', 'total_timesteps', 'num_envs', 'num_steps', 'curiosity_rewards', 'actions', 'observations'])\n"
     ]
    }
   ],
   "source": [
    "print(checkpoint.keys())"
   ]
  },
  {
   "cell_type": "code",
   "execution_count": 7,
   "metadata": {},
   "outputs": [
    {
     "name": "stdout",
     "output_type": "stream",
     "text": [
      "{'room_size': 10, 'max_steps': 1000, 'exploration_type': 'ATP'}\n"
     ]
    }
   ],
   "source": [
    "print(checkpoint['env_kwargs'])\n"
   ]
  },
  {
   "cell_type": "code",
   "execution_count": 9,
   "metadata": {},
   "outputs": [
    {
     "name": "stdout",
     "output_type": "stream",
     "text": [
      "tensor([[4., 7., 1., 0., 0., 0., 1., 1., 0., 0., 0., 1., 1., 0.],\n",
      "        [1., 7., 0., 0., 0., 0., 1., 1., 0., 0., 0., 1., 1., 0.],\n",
      "        [6., 8., 1., 0., 0., 0., 1., 1., 0., 0., 0., 1., 1., 0.],\n",
      "        [3., 8., 3., 1., 0., 0., 1., 1., 0., 0., 0., 1., 1., 0.],\n",
      "        [5., 5., 1., 0., 0., 0., 1., 1., 0., 0., 0., 1., 1., 0.],\n",
      "        [5., 7., 3., 1., 0., 0., 1., 1., 1., 0., 0., 1., 1., 0.],\n",
      "        [4., 8., 0., 0., 0., 0., 1., 1., 0., 0., 0., 1., 1., 0.],\n",
      "        [5., 7., 0., 0., 0., 0., 1., 1., 0., 0., 0., 1., 1., 0.]])\n"
     ]
    }
   ],
   "source": [
    "print(checkpoint['observations'][0][0])\n"
   ]
  },
  {
   "cell_type": "code",
   "execution_count": 8,
   "metadata": {},
   "outputs": [
    {
     "name": "stderr",
     "output_type": "stream",
     "text": [
      "Exception ignored in: <bound method IPythonKernel._clean_thread_parent_frames of <ipykernel.ipkernel.IPythonKernel object at 0x7f8b4849dd60>>\n",
      "Traceback (most recent call last):\n",
      "  File \"/Users/kevinhan/opt/anaconda3/envs/babyRL/lib/python3.8/site-packages/ipykernel/ipkernel.py\", line 775, in _clean_thread_parent_frames\n",
      "    def _clean_thread_parent_frames(\n",
      "KeyboardInterrupt: \n"
     ]
    },
    {
     "ename": "NameError",
     "evalue": "name 'rewards' is not defined",
     "output_type": "error",
     "traceback": [
      "\u001b[0;31m---------------------------------------------------------------------------\u001b[0m",
      "\u001b[0;31mNameError\u001b[0m                                 Traceback (most recent call last)",
      "Cell \u001b[0;32mIn[8], line 1\u001b[0m\n\u001b[0;32m----> 1\u001b[0m \u001b[38;5;28mprint\u001b[39m(\u001b[43mrewards\u001b[49m)\n",
      "\u001b[0;31mNameError\u001b[0m: name 'rewards' is not defined"
     ]
    }
   ],
   "source": [
    "print(rewards)"
   ]
  },
  {
   "cell_type": "code",
   "execution_count": 41,
   "metadata": {},
   "outputs": [],
   "source": [
    "support_cache = supports(armies)"
   ]
  },
  {
   "cell_type": "code",
   "execution_count": 42,
   "metadata": {},
   "outputs": [
    {
     "name": "stdout",
     "output_type": "stream",
     "text": [
      "{'B': 1, 'C': 1, 'D': 1}\n"
     ]
    }
   ],
   "source": [
    "print(support_cache)"
   ]
  },
  {
   "cell_type": "code",
   "execution_count": 13,
   "metadata": {},
   "outputs": [
    {
     "name": "stdout",
     "output_type": "stream",
     "text": [
      "5.656854249492381\n",
      "5.656854249492381\n"
     ]
    }
   ],
   "source": [
    "from numpy import linalg as LA\n",
    "p1, p2 = np.array([0, 0]), np.array([4, 4])\n",
    "dp = LA.norm((p1 - p2))\n",
    "print(np.sqrt(32))\n",
    "print(dp)"
   ]
  },
  {
   "cell_type": "code",
   "execution_count": 32,
   "metadata": {},
   "outputs": [
    {
     "name": "stdout",
     "output_type": "stream",
     "text": [
      "one 1\n",
      "two 2\n"
     ]
    }
   ],
   "source": [
    "test_dict = {\"one\": 1, \"two\": 2}\n",
    "\n",
    "for i,j in zip(test_dict.keys(), test_dict.values()):\n",
    "    print(i,j)"
   ]
  },
  {
   "cell_type": "code",
   "execution_count": 46,
   "metadata": {},
   "outputs": [
    {
     "data": {
      "image/png": "[encoded data removed]",
      "text/plain": [
       "<Figure size 1200x800 with 2 Axes>"
      ]
     },
     "metadata": {},
     "output_type": "display_data"
    }
   ],
   "source": [
    "test_actions = [\n",
    "    ['move_left', 'move_right', 'jump', 'duck', 'move_left', 'jump', 'shoot', 'jump', 'move_right'],  # Stage 1\n",
    "    ['move_right', 'duck', 'jump', 'jump', 'move_left', 'shoot', 'duck', 'move_right', 'shoot'],      # Stage 2\n",
    "    ['move_left', 'move_right', 'shoot', 'duck', 'duck', 'jump', 'move_left', 'jump', 'shoot'],      # Stage 3\n",
    "    ['jump', 'jump', 'move_left', 'move_right', 'shoot', 'shoot', 'duck', 'duck', 'jump'],           # Stage 4\n",
    "    ['move_left', 'move_right', 'shoot', 'duck', 'jump', 'move_right', 'move_left', 'duck', 'shoot'],# Stage 5\n",
    "    ['duck', 'move_right', 'move_right', 'jump', 'shoot', 'move_left', 'jump', 'shoot', 'duck'],     # Stage 6\n",
    "    ['jump', 'move_left', 'shoot', 'duck', 'jump', 'move_right', 'duck', 'move_right', 'shoot'],     # Stage 7\n",
    "    ['move_left', 'duck', 'jump', 'move_right', 'shoot', 'jump', 'move_left', 'shoot', 'duck'],      # Stage 8\n",
    "    ['shoot', 'move_right', 'duck', 'move_left', 'jump', 'shoot', 'duck', 'move_left', 'jump'],      # Stage 9\n",
    "    ['jump', 'shoot', 'duck', 'move_left', 'move_right', 'move_left', 'jump', 'shoot', 'duck']       # Stage 10\n",
    "]\n",
    "\n",
    "\n",
    "import matplotlib.pyplot as plt\n",
    "import pandas as pd\n",
    "import seaborn as sns\n",
    "\n",
    "# Create a DataFrame of action counts per stage\n",
    "unique_actions = sorted(set(action for actions in test_actions for action in actions))\n",
    "data = pd.DataFrame(0, index=range(1, len(test_actions) + 1), columns=unique_actions)\n",
    "\n",
    "# Populate the DataFrame with counts\n",
    "for i, actions in enumerate(test_actions):\n",
    "    for action in actions:\n",
    "        data.loc[i + 1, action] += 1\n",
    "\n",
    "# Plot the heatmap\n",
    "fig, ax = plt.subplots(figsize=(12, 8))\n",
    "sns.heatmap(data, annot=True, cmap=\"Blues\", fmt='d', ax=ax)\n",
    "\n",
    "# Customize the plot\n",
    "ax.set_xlabel('Actions')\n",
    "ax.set_ylabel('Testing Stages')\n",
    "ax.set_title('Heatmap of Actions Taken at Each Testing Stage')\n",
    "\n",
    "plt.tight_layout()\n",
    "plt.show()\n",
    "\n"
   ]
  },
  {
   "cell_type": "code",
   "execution_count": null,
   "metadata": {},
   "outputs": [],
   "source": []
  }
 ],
 "metadata": {
  "kernelspec": {
   "display_name": "babyRL",
   "language": "python",
   "name": "python3"
  },
  "language_info": {
   "codemirror_mode": {
    "name": "ipython",
    "version": 3
   },
   "file_extension": ".py",
   "mimetype": "text/x-python",
   "name": "python",
   "nbconvert_exporter": "python",
   "pygments_lexer": "ipython3",
   "version": "3.8.20"
  }
 },
 "nbformat": 4,
 "nbformat_minor": 2
}
