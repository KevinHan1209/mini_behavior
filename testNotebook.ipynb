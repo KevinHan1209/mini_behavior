{
 "cells": [
  {
   "cell_type": "code",
   "execution_count": 1,
   "metadata": {},
   "outputs": [],
   "source": [
    "import gym\n",
    "from gym_minigrid.wrappers import ImgObsWrapper\n",
    "from mini_behavior.utils.wrappers import MiniBHFullyObsWrapper\n",
    "from mini_behavior.register import register\n",
    "from algorithms.APT_PPO import APT_PPO\n",
    "import mini_behavior\n",
    "from stable_baselines3 import PPO\n",
    "import numpy as np\n",
    "from stable_baselines3.common.env_util import make_vec_env\n",
    "from stable_baselines3.common.torch_layers import BaseFeaturesExtractor\n",
    "from stable_baselines3.common.callbacks import StopTrainingOnMaxEpisodes\n",
    "from stable_baselines3.common.vec_env.subproc_vec_env import SubprocVecEnv\n",
    "from stable_baselines3.common.vec_env.dummy_vec_env import DummyVecEnv\n",
    "import torch.nn as nn\n",
    "import torch\n",
    "from env_wrapper import CustomObservationWrapper\n",
    "import argparse\n",
    "\n",
    "class MinigridFeaturesExtractor(BaseFeaturesExtractor):\n",
    "    def __init__(self, observation_space: gym.Space, features_dim: int = 512, normalized_image: bool = False) -> None:\n",
    "        super().__init__(observation_space, features_dim)\n",
    "        n_input_channels = observation_space.shape[0]\n",
    "        self.cnn = nn.Sequential(\n",
    "            nn.Conv2d(n_input_channels, 32, (2, 2)),\n",
    "            nn.ReLU(),\n",
    "            nn.Conv2d(32, 32, (2, 2)),\n",
    "            nn.ReLU(),\n",
    "            nn.Conv2d(32, 64, (2, 2)),\n",
    "            nn.ReLU(),\n",
    "            nn.Flatten(),\n",
    "        )\n",
    "\n",
    "        # Compute shape by doing one forward pass\n",
    "        with torch.no_grad():\n",
    "            n_flatten = self.cnn(torch.as_tensor(observation_space.sample()[None]).float()).shape[1]\n",
    "\n",
    "        self.linear = nn.Sequential(nn.Linear(n_flatten, features_dim), nn.ReLU())\n",
    "\n",
    "    def forward(self, observations: torch.Tensor) -> torch.Tensor:\n",
    "        return self.linear(self.cnn(observations))\n",
    "\n",
    "TASK = 'MultiToy'\n",
    "PARTIAL_OBS = True\n",
    "ROOM_SIZE = 10\n",
    "MAX_STEPS = 1000\n",
    "TOTAL_TIMESTEPS = 1e5\n",
    "DENSE_REWARD = False\n",
    "POLICY_TYPE = 'CnnPolicy'\n",
    "NUM_ENVS = 8\n",
    "NUM_STEPS = 125\n",
    "env_name = f\"MiniGrid-{TASK}-{ROOM_SIZE}x{ROOM_SIZE}-N2-v0\""
   ]
  },
  {
   "cell_type": "code",
   "execution_count": 2,
   "metadata": {},
   "outputs": [],
   "source": [
    "env_kwargs = {\"room_size\": ROOM_SIZE, \"max_steps\": MAX_STEPS, \"exploration_type\": \"ATP\"}\n",
    "def get_single_env() -> gym.Env:\n",
    "    '''\n",
    "    policy_kwargs = dict(\n",
    "    features_extractor_class=MinigridFeaturesExtractor,\n",
    "    features_extractor_kwargs=dict(features_dim=128)\n",
    ")\n",
    "    '''\n",
    "\n",
    "    # Env wrapping\n",
    "    env_name = f\"MiniGrid-{TASK}-{ROOM_SIZE}x{ROOM_SIZE}-N2-v0\"\n",
    "\n",
    "    kwargs = {\"room_size\": ROOM_SIZE, \"max_steps\": MAX_STEPS}\n",
    "\n",
    "\n",
    "    register(\n",
    "        id=env_name,\n",
    "        entry_point=f'mini_behavior.envs:{TASK}Env',\n",
    "        kwargs=kwargs\n",
    "    )\n",
    "\n",
    "    '''\n",
    "    config = {\n",
    "        \"policy_type\": POLICY_TYPE,\n",
    "        \"total_timesteps\": TOTAL_TIMESTEPS,\n",
    "        \"env_name\": env_name,\n",
    "    }\n",
    "    '''\n",
    "    \n",
    "    env = gym.make(env_name)\n",
    "    env = CustomObservationWrapper(env)\n",
    "\n",
    "    return env\n",
    "\n",
    "\n",
    "def init_env(num_envs: int):\n",
    "\n",
    "    env_fns = [lambda: get_single_env() for _ in range(num_envs)]\n",
    "    if num_envs == 1:\n",
    "        return DummyVecEnv(env_fns)\n",
    "    else:\n",
    "        return SubprocVecEnv(env_fns)\n",
    "    \n",
    "\n",
    "\n"
   ]
  },
  {
   "cell_type": "code",
   "execution_count": 3,
   "metadata": {},
   "outputs": [
    {
     "name": "stdout",
     "output_type": "stream",
     "text": [
      "\n",
      "=== Observation Space ===\n",
      "Shape: (59,)\n",
      "Type: float32\n"
     ]
    }
   ],
   "source": [
    "env = get_single_env()"
   ]
  },
  {
   "cell_type": "code",
   "execution_count": 14,
   "metadata": {},
   "outputs": [
    {
     "ename": "ValueError",
     "evalue": "setting an array element with a sequence. The requested array has an inhomogeneous shape after 1 dimensions. The detected shape was (68,) + inhomogeneous part.",
     "output_type": "error",
     "traceback": [
      "\u001b[0;31m---------------------------------------------------------------------------\u001b[0m",
      "\u001b[0;31mValueError\u001b[0m                                Traceback (most recent call last)",
      "Cell \u001b[0;32mIn[14], line 1\u001b[0m\n\u001b[0;32m----> 1\u001b[0m \u001b[38;5;28mprint\u001b[39m(\u001b[43menv\u001b[49m\u001b[38;5;241;43m.\u001b[39;49m\u001b[43mgen_obs\u001b[49m\u001b[43m(\u001b[49m\u001b[43m)\u001b[49m)\n",
      "File \u001b[0;32m~/mini_behavior/env_wrapper.py:67\u001b[0m, in \u001b[0;36mCustomObservationWrapper.gen_obs\u001b[0;34m(self)\u001b[0m\n\u001b[1;32m     63\u001b[0m                 obj_states\u001b[38;5;241m.\u001b[39mappend(\u001b[38;5;241m1\u001b[39m \u001b[38;5;28;01mif\u001b[39;00m state \u001b[38;5;28;01melse\u001b[39;00m \u001b[38;5;241m0\u001b[39m)\n\u001b[1;32m     66\u001b[0m obs \u001b[38;5;241m=\u001b[39m \u001b[38;5;28mlist\u001b[39m(\u001b[38;5;28mself\u001b[39m\u001b[38;5;241m.\u001b[39menv\u001b[38;5;241m.\u001b[39magent_pos) \u001b[38;5;241m+\u001b[39m [\u001b[38;5;28mself\u001b[39m\u001b[38;5;241m.\u001b[39menv\u001b[38;5;241m.\u001b[39magent_dir] \u001b[38;5;241m+\u001b[39m obj_states\n\u001b[0;32m---> 67\u001b[0m \u001b[38;5;28;01mreturn\u001b[39;00m \u001b[43mnp\u001b[49m\u001b[38;5;241;43m.\u001b[39;49m\u001b[43marray\u001b[49m\u001b[43m(\u001b[49m\u001b[43mobs\u001b[49m\u001b[43m,\u001b[49m\u001b[43m \u001b[49m\u001b[43mdtype\u001b[49m\u001b[38;5;241;43m=\u001b[39;49m\u001b[43mnp\u001b[49m\u001b[38;5;241;43m.\u001b[39;49m\u001b[43mfloat32\u001b[49m\u001b[43m)\u001b[49m\n",
      "\u001b[0;31mValueError\u001b[0m: setting an array element with a sequence. The requested array has an inhomogeneous shape after 1 dimensions. The detected shape was (68,) + inhomogeneous part."
     ]
    }
   ],
   "source": [
    "print(env.gen_obs())"
   ]
  },
  {
   "cell_type": "code",
   "execution_count": null,
   "metadata": {},
   "outputs": [],
   "source": [
    "env = init_env(NUM_ENVS)\n",
    "    \n",
    "print('begin training')\n",
    "# Policy training\n",
    "model = APT_PPO(env, num_envs=NUM_ENVS, total_timesteps = TOTAL_TIMESTEPS, num_steps=NUM_STEPS, save_freq = 10)\n",
    "\n",
    "model.train()"
   ]
  },
  {
   "cell_type": "code",
   "execution_count": 4,
   "metadata": {},
   "outputs": [],
   "source": [
    "import os\n",
    "\n",
    "# Define the directory path\n",
    "save_dir = \"models/ATP_PPO_Trial\"\n",
    "\n",
    "# Check if the directory exists, and if not, create it\n",
    "if not os.path.exists(save_dir):\n",
    "    os.makedirs(save_dir)\n",
    "model.save(f\"{save_dir}/{env_name}\", env_kwargs= env_kwargs)"
   ]
  },
  {
   "cell_type": "code",
   "execution_count": 5,
   "metadata": {},
   "outputs": [],
   "source": [
    "checkpoint = torch.load(\"/Users/kevinhan/mini_behavior/models/ATP_PPO_Trial/MiniGrid-PlayAlligator-10x10-N2-v0\")"
   ]
  },
  {
   "cell_type": "code",
   "execution_count": 6,
   "metadata": {},
   "outputs": [
    {
     "name": "stdout",
     "output_type": "stream",
     "text": [
      "dict_keys(['env_kwargs', 'model_saves', 'final_model_state_dict', 'final_optimizer_state_dict', 'learning_rate', 'total_timesteps', 'num_envs', 'num_steps', 'curiosity_rewards', 'actions', 'observations'])\n"
     ]
    }
   ],
   "source": [
    "print(checkpoint.keys())"
   ]
  },
  {
   "cell_type": "code",
   "execution_count": 7,
   "metadata": {},
   "outputs": [
    {
     "name": "stdout",
     "output_type": "stream",
     "text": [
      "{'room_size': 10, 'max_steps': 1000, 'exploration_type': 'ATP'}\n"
     ]
    }
   ],
   "source": [
    "print(checkpoint['env_kwargs'])\n"
   ]
  },
  {
   "cell_type": "code",
   "execution_count": 9,
   "metadata": {},
   "outputs": [
    {
     "name": "stdout",
     "output_type": "stream",
     "text": [
      "tensor([[4., 7., 1., 0., 0., 0., 1., 1., 0., 0., 0., 1., 1., 0.],\n",
      "        [1., 7., 0., 0., 0., 0., 1., 1., 0., 0., 0., 1., 1., 0.],\n",
      "        [6., 8., 1., 0., 0., 0., 1., 1., 0., 0., 0., 1., 1., 0.],\n",
      "        [3., 8., 3., 1., 0., 0., 1., 1., 0., 0., 0., 1., 1., 0.],\n",
      "        [5., 5., 1., 0., 0., 0., 1., 1., 0., 0., 0., 1., 1., 0.],\n",
      "        [5., 7., 3., 1., 0., 0., 1., 1., 1., 0., 0., 1., 1., 0.],\n",
      "        [4., 8., 0., 0., 0., 0., 1., 1., 0., 0., 0., 1., 1., 0.],\n",
      "        [5., 7., 0., 0., 0., 0., 1., 1., 0., 0., 0., 1., 1., 0.]])\n"
     ]
    }
   ],
   "source": [
    "print(checkpoint['observations'][0][0])\n"
   ]
  },
  {
   "cell_type": "code",
   "execution_count": 8,
   "metadata": {},
   "outputs": [
    {
     "name": "stderr",
     "output_type": "stream",
     "text": [
      "Exception ignored in: <bound method IPythonKernel._clean_thread_parent_frames of <ipykernel.ipkernel.IPythonKernel object at 0x7f8b4849dd60>>\n",
      "Traceback (most recent call last):\n",
      "  File \"/Users/kevinhan/opt/anaconda3/envs/babyRL/lib/python3.8/site-packages/ipykernel/ipkernel.py\", line 775, in _clean_thread_parent_frames\n",
      "    def _clean_thread_parent_frames(\n",
      "KeyboardInterrupt: \n"
     ]
    },
    {
     "ename": "NameError",
     "evalue": "name 'rewards' is not defined",
     "output_type": "error",
     "traceback": [
      "\u001b[0;31m---------------------------------------------------------------------------\u001b[0m",
      "\u001b[0;31mNameError\u001b[0m                                 Traceback (most recent call last)",
      "Cell \u001b[0;32mIn[8], line 1\u001b[0m\n\u001b[0;32m----> 1\u001b[0m \u001b[38;5;28mprint\u001b[39m(\u001b[43mrewards\u001b[49m)\n",
      "\u001b[0;31mNameError\u001b[0m: name 'rewards' is not defined"
     ]
    }
   ],
   "source": [
    "print(rewards)"
   ]
  },
  {
   "cell_type": "code",
   "execution_count": 41,
   "metadata": {},
   "outputs": [],
   "source": [
    "support_cache = supports(armies)"
   ]
  },
  {
   "cell_type": "code",
   "execution_count": 42,
   "metadata": {},
   "outputs": [
    {
     "name": "stdout",
     "output_type": "stream",
     "text": [
      "{'B': 1, 'C': 1, 'D': 1}\n"
     ]
    }
   ],
   "source": [
    "print(support_cache)"
   ]
  },
  {
   "cell_type": "code",
   "execution_count": 13,
   "metadata": {},
   "outputs": [
    {
     "name": "stdout",
     "output_type": "stream",
     "text": [
      "5.656854249492381\n",
      "5.656854249492381\n"
     ]
    }
   ],
   "source": [
    "from numpy import linalg as LA\n",
    "p1, p2 = np.array([0, 0]), np.array([4, 4])\n",
    "dp = LA.norm((p1 - p2))\n",
    "print(np.sqrt(32))\n",
    "print(dp)"
   ]
  },
  {
   "cell_type": "code",
   "execution_count": null,
   "metadata": {},
   "outputs": [],
   "source": []
  }
 ],
 "metadata": {
  "kernelspec": {
   "display_name": "babyRL",
   "language": "python",
   "name": "python3"
  },
  "language_info": {
   "codemirror_mode": {
    "name": "ipython",
    "version": 3
   },
   "file_extension": ".py",
   "mimetype": "text/x-python",
   "name": "python",
   "nbconvert_exporter": "python",
   "pygments_lexer": "ipython3",
   "version": "3.8.20"
  }
 },
 "nbformat": 4,
 "nbformat_minor": 2
}
